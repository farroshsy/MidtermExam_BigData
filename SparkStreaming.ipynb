{
  "nbformat": 4,
  "nbformat_minor": 0,
  "metadata": {
    "colab": {
      "provenance": []
    },
    "kernelspec": {
      "name": "python3",
      "display_name": "Python 3"
    },
    "language_info": {
      "name": "python"
    }
  },
  "cells": [
    {
      "cell_type": "code",
      "execution_count": null,
      "metadata": {
        "id": "pXev1E0ae5IX"
      },
      "outputs": [],
      "source": [
        "!pip install pyspark"
      ]
    },
    {
      "cell_type": "markdown",
      "source": [
        "## Initiate the Spark session"
      ],
      "metadata": {
        "id": "u9ByxoR7pCjo"
      }
    },
    {
      "cell_type": "code",
      "source": [
        "# Import Apache Spark SQL\n",
        "from pyspark.sql import SparkSession\n",
        "\n",
        "# Create Spark Session/Context\n",
        "# We are using local machine with all the CPU cores [*]\n",
        "spark = SparkSession.builder \\\n",
        "    .master(\"local[*]\") \\\n",
        "    .appName(\"Hello Pyspark\") \\\n",
        "    .config(\"spark.some.config.option\", \"some-value\") \\\n",
        "    .getOrCreate()"
      ],
      "metadata": {
        "id": "ie-foHslfHX0"
      },
      "execution_count": null,
      "outputs": []
    },
    {
      "cell_type": "code",
      "source": [
        "# Check spark session\n",
        "print(spark)"
      ],
      "metadata": {
        "id": "ZX4720XhfJPN"
      },
      "execution_count": null,
      "outputs": []
    },
    {
      "cell_type": "code",
      "source": [
        "spark.sparkContext.setLogLevel(\"ERROR\")"
      ],
      "metadata": {
        "id": "ejz4nOJbfK94"
      },
      "execution_count": null,
      "outputs": []
    },
    {
      "cell_type": "markdown",
      "source": [
        "## Define the data structure"
      ],
      "metadata": {
        "id": "KRk6bxKdpFcP"
      }
    },
    {
      "cell_type": "code",
      "source": [
        "from pyspark.sql.types import StructType,StructField, StringType, IntegerType\n",
        "\n",
        "schema = StructType([\\\n",
        "        StructField(\"RecordNumber\", IntegerType(), True),\\\n",
        "        StructField(\"Zipcode\", StringType(), True),\\\n",
        "        StructField(\"ZipCodeType\", StringType(), True),\\\n",
        "        StructField(\"City\", StringType(), True),\\\n",
        "        StructField(\"State\", StringType(), True),\\\n",
        "        StructField(\"LocationType\", StringType(), True),\\\n",
        "        StructField(\"Lat\", StringType(), True),\\\n",
        "        StructField(\"Long\", StringType(), True),\\\n",
        "        StructField(\"Xaxis\", StringType(), True),\\\n",
        "        StructField(\"Yaxis\", StringType(), True),\\\n",
        "        StructField(\"Zaxis\", StringType(), True),\\\n",
        "        StructField(\"WorldRegion\", StringType(), True),\\\n",
        "        StructField(\"Country\", StringType(), True),\\\n",
        "        StructField(\"LocationText\", StringType(), True),\\\n",
        "        StructField(\"Location\", StringType(), True),\\\n",
        "        StructField(\"Decommisioned\", StringType(), True)\\\n",
        "])"
      ],
      "metadata": {
        "id": "TDZ2fVBrfoWj"
      },
      "execution_count": null,
      "outputs": []
    },
    {
      "cell_type": "markdown",
      "source": [
        "## Determine the folder location"
      ],
      "metadata": {
        "id": "nTsOfST_pIOh"
      }
    },
    {
      "cell_type": "code",
      "source": [
        "df = spark.readStream.schema(schema).json(\"/content/\")"
      ],
      "metadata": {
        "id": "O0AUBMkzgbzy"
      },
      "execution_count": null,
      "outputs": []
    },
    {
      "cell_type": "code",
      "source": [
        "df.printSchema()"
      ],
      "metadata": {
        "id": "M_CY5TuWgna-"
      },
      "execution_count": null,
      "outputs": []
    },
    {
      "cell_type": "markdown",
      "source": [
        "## Do the aggregation step"
      ],
      "metadata": {
        "id": "kT7Pd2_2pLAX"
      }
    },
    {
      "cell_type": "code",
      "source": [
        "groupDF = df.select(\"Zipcode\").groupBy(\"Zipcode\").count()\n",
        "\n",
        "groupDF.printSchema()"
      ],
      "metadata": {
        "id": "s_S_x4jvgpUP"
      },
      "execution_count": null,
      "outputs": []
    },
    {
      "cell_type": "markdown",
      "source": [
        "## Start the streaming task"
      ],
      "metadata": {
        "id": "bqXN02f_pOC1"
      }
    },
    {
      "cell_type": "code",
      "source": [
        "result = groupDF.writeStream\\\n",
        "  .format(\"console\")\\\n",
        "  .outputMode(\"complete\")\\\n",
        "  .start()\n",
        "\n",
        "\n",
        "result.awaitTermination()"
      ],
      "metadata": {
        "id": "gy2bVWyfg1_p"
      },
      "execution_count": null,
      "outputs": []
    },
    {
      "cell_type": "code",
      "source": [],
      "metadata": {
        "id": "LfIXy0lYiZ2P"
      },
      "execution_count": null,
      "outputs": []
    }
  ]
}
