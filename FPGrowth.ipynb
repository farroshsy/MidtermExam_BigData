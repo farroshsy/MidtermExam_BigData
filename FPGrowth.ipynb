{
  "nbformat": 4,
  "nbformat_minor": 0,
  "metadata": {
    "colab": {
      "provenance": [],
      "authorship_tag": "ABX9TyN5MdIFkvExLqOhf92Alkiv",
      "include_colab_link": true
    },
    "kernelspec": {
      "name": "python3",
      "display_name": "Python 3"
    },
    "language_info": {
      "name": "python"
    }
  },
  "cells": [
    {
      "cell_type": "markdown",
      "metadata": {
        "id": "view-in-github",
        "colab_type": "text"
      },
      "source": [
        "<a href=\"https://colab.research.google.com/github/farroshsy/MidtermExam_BigData/blob/main/FPGrowth.ipynb\" target=\"_parent\"><img src=\"https://colab.research.google.com/assets/colab-badge.svg\" alt=\"Open In Colab\"/></a>"
      ]
    },
    {
      "cell_type": "markdown",
      "source": [
        "# **Midterm Exam**\n",
        "## Spark Streaming and Reccomendation Systems\n",
        "---\n",
        "\n",
        "Name: Farros Hilmi Syafei \n",
        "<br>\n",
        "Student ID: 5025201012\n",
        "<br>\n",
        "Class: Big Data A\n",
        "<br>\n",
        "Lecturer: Abdul Munif, S.Kom., M.Sc.\n"
      ],
      "metadata": {
        "id": "vdADvMc7jy0M"
      }
    },
    {
      "cell_type": "markdown",
      "source": [
        "## Problem\n",
        "### 2. Recommendation Systems - Frequent Pattern Mining\n",
        "You are given the market basket dataset (market-basket.csv). \n",
        "*   Use the FP-growth algorithm in Apache Spark to find the most frequent items. Save\n",
        "your result into an .xlsx files.\n",
        "*   Do the experiment with different minSupport and minConfidence values. Give the conclusion at the end of experiment.\n",
        "\n"
      ],
      "metadata": {
        "id": "GWTTK_7LRvrD"
      }
    },
    {
      "cell_type": "markdown",
      "source": [
        "# Data Driven Dealings Development\n",
        "\n",
        "- EDA on Sales Data\n",
        "- RFM Clustering\n",
        "- Predicting Sales\n",
        "- Market Basket Analysis\n",
        "- Recommending Items per Customer"
      ],
      "metadata": {
        "id": "HRqwGaThj2HA"
      }
    },
    {
      "cell_type": "markdown",
      "source": [
        "## Market Basket Analysis"
      ],
      "metadata": {
        "id": "lXKGBFzQj_xM"
      }
    },
    {
      "cell_type": "code",
      "source": [
        "%%capture\n",
        "!sudo apt-get update --fix-missing\n",
        "\n",
        "!apt-get install openjdk-8-jdk-headless -qq > /dev/null\n",
        "\n",
        "!wget -q https://archive.apache.org/dist/spark/spark-3.0.0/spark-3.0.0-bin-hadoop3.2.tgz\n",
        "#!wget -q https://downloads.apache.org/spark/spark-3.0.0/spark-3.0.0-bin-hadoop3.2.tgz\n",
        "\n",
        "!mv spark-3.0.0-bin-hadoop3.2.tgz sparkkk\n",
        "!tar xf sparkkk\n",
        "!pip install -q findspark"
      ],
      "metadata": {
        "id": "j0a4dTYNlbOR"
      },
      "execution_count": 16,
      "outputs": []
    },
    {
      "cell_type": "code",
      "source": [
        "!pip install spark"
      ],
      "metadata": {
        "colab": {
          "base_uri": "https://localhost:8080/"
        },
        "id": "ZOyyZmreleEC",
        "outputId": "90dea082-4969-4110-d858-86566ee7e16b"
      },
      "execution_count": 17,
      "outputs": [
        {
          "output_type": "stream",
          "name": "stdout",
          "text": [
            "Looking in indexes: https://pypi.org/simple, https://us-python.pkg.dev/colab-wheels/public/simple/\n",
            "Collecting spark\n",
            "  Downloading spark-0.2.1.tar.gz (41 kB)\n",
            "\u001b[2K     \u001b[90m━━━━━━━━━━━━━━━━━━━━━━━━━━━━━━━━━━━━━━━━\u001b[0m \u001b[32m41.0/41.0 kB\u001b[0m \u001b[31m3.3 MB/s\u001b[0m eta \u001b[36m0:00:00\u001b[0m\n",
            "\u001b[?25h  Preparing metadata (setup.py) ... \u001b[?25l\u001b[?25hdone\n",
            "Building wheels for collected packages: spark\n",
            "  Building wheel for spark (setup.py) ... \u001b[?25l\u001b[?25hdone\n",
            "  Created wheel for spark: filename=spark-0.2.1-py3-none-any.whl size=58760 sha256=575c87df418b36c398b79223c43a327f15b3feb8774b265fe870dfa4f07016c8\n",
            "  Stored in directory: /root/.cache/pip/wheels/bc/0f/6c/b41528ca0fd4d46513185e90da91bc1c484bba6138641c5a62\n",
            "Successfully built spark\n",
            "Installing collected packages: spark\n",
            "Successfully installed spark-0.2.1\n"
          ]
        }
      ]
    },
    {
      "cell_type": "code",
      "source": [
        "# Sets up the environment variables for Java and Spark, initializes the findspark library\n",
        "# Creates a new SparkSession for a PySpark application named 'fpgrowth'.\n",
        "import os\n",
        "os.environ[\"JAVA_HOME\"] = \"/usr/lib/jvm/java-8-openjdk-amd64\"\n",
        "os.environ[\"SPARK_HOME\"] = \"/content/spark-3.0.0-bin-hadoop3.2\"\n",
        "\n",
        "import findspark\n",
        "findspark.init()\n",
        "\n",
        "from pyspark.sql import SparkSession\n",
        "spark = SparkSession.builder.master(\"local[*]\").getOrCreate()\n",
        "\n",
        "from pyspark.sql import SparkSession\n",
        "spark = SparkSession \\\n",
        "    .builder \\\n",
        "    .appName('fpgrowth') \\\n",
        "    .getOrCreate()\n",
        "\n",
        "spark   "
      ],
      "metadata": {
        "colab": {
          "base_uri": "https://localhost:8080/",
          "height": 221
        },
        "id": "BOWRhLbDliRL",
        "outputId": "eb0af520-9900-4dae-8b09-325dacf6b374"
      },
      "execution_count": 27,
      "outputs": [
        {
          "output_type": "execute_result",
          "data": {
            "text/plain": [
              "<pyspark.sql.session.SparkSession at 0x7ff138304580>"
            ],
            "text/html": [
              "\n",
              "            <div>\n",
              "                <p><b>SparkSession - in-memory</b></p>\n",
              "                \n",
              "        <div>\n",
              "            <p><b>SparkContext</b></p>\n",
              "\n",
              "            <p><a href=\"http://9f2b49dbd903:4040\">Spark UI</a></p>\n",
              "\n",
              "            <dl>\n",
              "              <dt>Version</dt>\n",
              "                <dd><code>v3.0.0</code></dd>\n",
              "              <dt>Master</dt>\n",
              "                <dd><code>local[*]</code></dd>\n",
              "              <dt>AppName</dt>\n",
              "                <dd><code>pyspark-shell</code></dd>\n",
              "            </dl>\n",
              "        </div>\n",
              "        \n",
              "            </div>\n",
              "        "
            ]
          },
          "metadata": {},
          "execution_count": 27
        }
      ]
    },
    {
      "cell_type": "code",
      "execution_count": 26,
      "metadata": {
        "colab": {
          "base_uri": "https://localhost:8080/"
        },
        "id": "VkLnsawChkaC",
        "outputId": "114bd694-97dc-4083-cd50-3c7b46fba135"
      },
      "outputs": [
        {
          "output_type": "stream",
          "name": "stdout",
          "text": [
            "Drive already mounted at /content/gdrive; to attempt to forcibly remount, call drive.mount(\"/content/gdrive\", force_remount=True).\n"
          ]
        }
      ],
      "source": [
        "# To be able to use your data stored in your Google Drive you first need to mount your Google Drive so you can load and save files to it. \n",
        "from google.colab import drive\n",
        "drive.mount('/content/gdrive')\n",
        "#You'll need to put in a token which Google will generate for you as soon as you click on the link"
      ]
    },
    {
      "cell_type": "code",
      "source": [
        "import csv\n",
        "csv_path = '/content/gdrive/MyDrive/BigData/market-basket.csv'\n",
        "with open(csv_path, 'r') as f:\n",
        "    temp_lines = f.readline() + '\\n' + f.readline()\n",
        "    # The csv.Sniffer() method is used to detect the delimiter used in the file (either ; or ,) and then the dialect object is used to read the file with the correct delimiter. The pandas.read_csv() method is used to load the data into a pandas DataFrame object called data.\n",
        "    dialect = csv.Sniffer().sniff(temp_lines, delimiters=';,')\n",
        "    f.seek(0)\n",
        "    data = pd.read_csv(f, dialect=dialect, error_bad_lines=False)\n",
        "data.head()"
      ],
      "metadata": {
        "colab": {
          "base_uri": "https://localhost:8080/",
          "height": 333
        },
        "id": "V9mdjOS6j9CQ",
        "outputId": "f9ccd9b6-9b54-44ef-cedc-0763813a58bc"
      },
      "execution_count": 41,
      "outputs": [
        {
          "output_type": "stream",
          "name": "stderr",
          "text": [
            "<ipython-input-41-cb59a4411cf1>:7: FutureWarning: The error_bad_lines argument has been deprecated and will be removed in a future version. Use on_bad_lines in the future.\n",
            "\n",
            "\n",
            "  data = pd.read_csv(f, dialect=dialect, error_bad_lines=False)\n",
            "<ipython-input-41-cb59a4411cf1>:7: DtypeWarning: Columns (0) have mixed types. Specify dtype option on import or set low_memory=False.\n",
            "  data = pd.read_csv(f, dialect=dialect, error_bad_lines=False)\n"
          ]
        },
        {
          "output_type": "execute_result",
          "data": {
            "text/plain": [
              "   BillNo                             Itemname  Quantity              Date  \\\n",
              "0  536365   WHITE HANGING HEART T-LIGHT HOLDER         6  01.12.2010 08:26   \n",
              "1  536365                  WHITE METAL LANTERN         6  01.12.2010 08:26   \n",
              "2  536365       CREAM CUPID HEARTS COAT HANGER         8  01.12.2010 08:26   \n",
              "3  536365  KNITTED UNION FLAG HOT WATER BOTTLE         6  01.12.2010 08:26   \n",
              "4  536365       RED WOOLLY HOTTIE WHITE HEART.         6  01.12.2010 08:26   \n",
              "\n",
              "  Price  CustomerID         Country  \n",
              "0  2,55     17850.0  United Kingdom  \n",
              "1  3,39     17850.0  United Kingdom  \n",
              "2  2,75     17850.0  United Kingdom  \n",
              "3  3,39     17850.0  United Kingdom  \n",
              "4  3,39     17850.0  United Kingdom  "
            ],
            "text/html": [
              "\n",
              "  <div id=\"df-4633b87e-e9d8-48b9-9b52-0cc4be82706d\">\n",
              "    <div class=\"colab-df-container\">\n",
              "      <div>\n",
              "<style scoped>\n",
              "    .dataframe tbody tr th:only-of-type {\n",
              "        vertical-align: middle;\n",
              "    }\n",
              "\n",
              "    .dataframe tbody tr th {\n",
              "        vertical-align: top;\n",
              "    }\n",
              "\n",
              "    .dataframe thead th {\n",
              "        text-align: right;\n",
              "    }\n",
              "</style>\n",
              "<table border=\"1\" class=\"dataframe\">\n",
              "  <thead>\n",
              "    <tr style=\"text-align: right;\">\n",
              "      <th></th>\n",
              "      <th>BillNo</th>\n",
              "      <th>Itemname</th>\n",
              "      <th>Quantity</th>\n",
              "      <th>Date</th>\n",
              "      <th>Price</th>\n",
              "      <th>CustomerID</th>\n",
              "      <th>Country</th>\n",
              "    </tr>\n",
              "  </thead>\n",
              "  <tbody>\n",
              "    <tr>\n",
              "      <th>0</th>\n",
              "      <td>536365</td>\n",
              "      <td>WHITE HANGING HEART T-LIGHT HOLDER</td>\n",
              "      <td>6</td>\n",
              "      <td>01.12.2010 08:26</td>\n",
              "      <td>2,55</td>\n",
              "      <td>17850.0</td>\n",
              "      <td>United Kingdom</td>\n",
              "    </tr>\n",
              "    <tr>\n",
              "      <th>1</th>\n",
              "      <td>536365</td>\n",
              "      <td>WHITE METAL LANTERN</td>\n",
              "      <td>6</td>\n",
              "      <td>01.12.2010 08:26</td>\n",
              "      <td>3,39</td>\n",
              "      <td>17850.0</td>\n",
              "      <td>United Kingdom</td>\n",
              "    </tr>\n",
              "    <tr>\n",
              "      <th>2</th>\n",
              "      <td>536365</td>\n",
              "      <td>CREAM CUPID HEARTS COAT HANGER</td>\n",
              "      <td>8</td>\n",
              "      <td>01.12.2010 08:26</td>\n",
              "      <td>2,75</td>\n",
              "      <td>17850.0</td>\n",
              "      <td>United Kingdom</td>\n",
              "    </tr>\n",
              "    <tr>\n",
              "      <th>3</th>\n",
              "      <td>536365</td>\n",
              "      <td>KNITTED UNION FLAG HOT WATER BOTTLE</td>\n",
              "      <td>6</td>\n",
              "      <td>01.12.2010 08:26</td>\n",
              "      <td>3,39</td>\n",
              "      <td>17850.0</td>\n",
              "      <td>United Kingdom</td>\n",
              "    </tr>\n",
              "    <tr>\n",
              "      <th>4</th>\n",
              "      <td>536365</td>\n",
              "      <td>RED WOOLLY HOTTIE WHITE HEART.</td>\n",
              "      <td>6</td>\n",
              "      <td>01.12.2010 08:26</td>\n",
              "      <td>3,39</td>\n",
              "      <td>17850.0</td>\n",
              "      <td>United Kingdom</td>\n",
              "    </tr>\n",
              "  </tbody>\n",
              "</table>\n",
              "</div>\n",
              "      <button class=\"colab-df-convert\" onclick=\"convertToInteractive('df-4633b87e-e9d8-48b9-9b52-0cc4be82706d')\"\n",
              "              title=\"Convert this dataframe to an interactive table.\"\n",
              "              style=\"display:none;\">\n",
              "        \n",
              "  <svg xmlns=\"http://www.w3.org/2000/svg\" height=\"24px\"viewBox=\"0 0 24 24\"\n",
              "       width=\"24px\">\n",
              "    <path d=\"M0 0h24v24H0V0z\" fill=\"none\"/>\n",
              "    <path d=\"M18.56 5.44l.94 2.06.94-2.06 2.06-.94-2.06-.94-.94-2.06-.94 2.06-2.06.94zm-11 1L8.5 8.5l.94-2.06 2.06-.94-2.06-.94L8.5 2.5l-.94 2.06-2.06.94zm10 10l.94 2.06.94-2.06 2.06-.94-2.06-.94-.94-2.06-.94 2.06-2.06.94z\"/><path d=\"M17.41 7.96l-1.37-1.37c-.4-.4-.92-.59-1.43-.59-.52 0-1.04.2-1.43.59L10.3 9.45l-7.72 7.72c-.78.78-.78 2.05 0 2.83L4 21.41c.39.39.9.59 1.41.59.51 0 1.02-.2 1.41-.59l7.78-7.78 2.81-2.81c.8-.78.8-2.07 0-2.86zM5.41 20L4 18.59l7.72-7.72 1.47 1.35L5.41 20z\"/>\n",
              "  </svg>\n",
              "      </button>\n",
              "      \n",
              "  <style>\n",
              "    .colab-df-container {\n",
              "      display:flex;\n",
              "      flex-wrap:wrap;\n",
              "      gap: 12px;\n",
              "    }\n",
              "\n",
              "    .colab-df-convert {\n",
              "      background-color: #E8F0FE;\n",
              "      border: none;\n",
              "      border-radius: 50%;\n",
              "      cursor: pointer;\n",
              "      display: none;\n",
              "      fill: #1967D2;\n",
              "      height: 32px;\n",
              "      padding: 0 0 0 0;\n",
              "      width: 32px;\n",
              "    }\n",
              "\n",
              "    .colab-df-convert:hover {\n",
              "      background-color: #E2EBFA;\n",
              "      box-shadow: 0px 1px 2px rgba(60, 64, 67, 0.3), 0px 1px 3px 1px rgba(60, 64, 67, 0.15);\n",
              "      fill: #174EA6;\n",
              "    }\n",
              "\n",
              "    [theme=dark] .colab-df-convert {\n",
              "      background-color: #3B4455;\n",
              "      fill: #D2E3FC;\n",
              "    }\n",
              "\n",
              "    [theme=dark] .colab-df-convert:hover {\n",
              "      background-color: #434B5C;\n",
              "      box-shadow: 0px 1px 3px 1px rgba(0, 0, 0, 0.15);\n",
              "      filter: drop-shadow(0px 1px 2px rgba(0, 0, 0, 0.3));\n",
              "      fill: #FFFFFF;\n",
              "    }\n",
              "  </style>\n",
              "\n",
              "      <script>\n",
              "        const buttonEl =\n",
              "          document.querySelector('#df-4633b87e-e9d8-48b9-9b52-0cc4be82706d button.colab-df-convert');\n",
              "        buttonEl.style.display =\n",
              "          google.colab.kernel.accessAllowed ? 'block' : 'none';\n",
              "\n",
              "        async function convertToInteractive(key) {\n",
              "          const element = document.querySelector('#df-4633b87e-e9d8-48b9-9b52-0cc4be82706d');\n",
              "          const dataTable =\n",
              "            await google.colab.kernel.invokeFunction('convertToInteractive',\n",
              "                                                     [key], {});\n",
              "          if (!dataTable) return;\n",
              "\n",
              "          const docLinkHtml = 'Like what you see? Visit the ' +\n",
              "            '<a target=\"_blank\" href=https://colab.research.google.com/notebooks/data_table.ipynb>data table notebook</a>'\n",
              "            + ' to learn more about interactive tables.';\n",
              "          element.innerHTML = '';\n",
              "          dataTable['output_type'] = 'display_data';\n",
              "          await google.colab.output.renderOutput(dataTable, element);\n",
              "          const docLink = document.createElement('div');\n",
              "          docLink.innerHTML = docLinkHtml;\n",
              "          element.appendChild(docLink);\n",
              "        }\n",
              "      </script>\n",
              "    </div>\n",
              "  </div>\n",
              "  "
            ]
          },
          "metadata": {},
          "execution_count": 41
        }
      ]
    },
    {
      "cell_type": "code",
      "source": [
        "from google.colab import files\n",
        "from pyspark.sql import functions as F\n",
        "from pyspark.ml.fpm import FPGrowth\n",
        "\n",
        "data = data.astype(str)\n",
        "data['BillNo'] = data['BillNo'].astype(str)\n",
        "\n",
        "sparkdata = spark.createDataFrame(data)\n",
        "basketdata = sparkdata.dropDuplicates(['BillNo', 'Itemname']).sort('BillNo')\n",
        "basketdata = basketdata.groupBy(\"BillNo\").agg(F.collect_list(\"Itemname\")).sort('BillNo')"
      ],
      "metadata": {
        "id": "VRLNIHiKlkk5"
      },
      "execution_count": 49,
      "outputs": []
    },
    {
      "cell_type": "markdown",
      "source": [
        "#### First Experiment\n",
        "minSupport = 0.002 and minConfidence == 0.002"
      ],
      "metadata": {
        "id": "Tq3IHvVFhSzf"
      }
    },
    {
      "cell_type": "code",
      "source": [
        "#Frequent Pattern Growth – FP Growth is a method of mining frequent itemsets\n",
        "fpGrowth = FPGrowth(itemsCol=\"collect_list(Itemname)\", minSupport=0.002, minConfidence=0.002) \n",
        "model = fpGrowth.fit(basketdata)\n",
        "\n",
        "# Display frequent itemsets.\n",
        "model.freqItemsets.show()\n",
        "items = model.freqItemsets\n",
        "# Display generated association rules.\n",
        "model.associationRules.show()\n",
        "rules = model.associationRules\n",
        "# transform examines the input items against all the association rules and summarize the\n",
        "# consequents as prediction\n",
        "model.transform(basketdata).show()\n",
        "transformed = model.transform(basketdata)"
      ],
      "metadata": {
        "colab": {
          "base_uri": "https://localhost:8080/"
        },
        "id": "y0WTb42nll8l",
        "outputId": "186ee514-05e9-472b-b907-829d35f0ebf7"
      },
      "execution_count": null,
      "outputs": [
        {
          "output_type": "stream",
          "name": "stdout",
          "text": [
            "+--------------------+----+\n",
            "|               items|freq|\n",
            "+--------------------+----+\n",
            "|[FELTCRAFT BUTTER...| 471|\n",
            "|[FELTCRAFT BUTTER...|  56|\n",
            "|[FELTCRAFT BUTTER...|  59|\n",
            "|[FELTCRAFT BUTTER...| 124|\n",
            "|[FELTCRAFT BUTTER...|  79|\n",
            "|[FELTCRAFT BUTTER...|  48|\n",
            "|[FELTCRAFT BUTTER...|  44|\n",
            "|[FELTCRAFT BUTTER...| 127|\n",
            "|[FELTCRAFT BUTTER...|  49|\n",
            "|[FELTCRAFT BUTTER...|  55|\n",
            "|[FELTCRAFT BUTTER...|  47|\n",
            "|[FELTCRAFT BUTTER...|  47|\n",
            "|[FELTCRAFT BUTTER...|  48|\n",
            "|[FELTCRAFT BUTTER...|  73|\n",
            "|[FELTCRAFT BUTTER...|  49|\n",
            "|[FELTCRAFT BUTTER...|  70|\n",
            "|[FELTCRAFT BUTTER...|  54|\n",
            "|[FELTCRAFT BUTTER...|  52|\n",
            "|[FELTCRAFT BUTTER...|  46|\n",
            "|[FELTCRAFT BUTTER...|  57|\n",
            "+--------------------+----+\n",
            "only showing top 20 rows\n",
            "\n"
          ]
        }
      ]
    },
    {
      "cell_type": "code",
      "source": [
        "# Convert the Spark DataFrame back to a Pandas DataFrame using Arrow\n",
        "result_pdf = items.select(\"*\").toPandas()\n",
        "result_pdf.head()"
      ],
      "metadata": {
        "id": "p9pXFXjslova"
      },
      "execution_count": null,
      "outputs": []
    },
    {
      "cell_type": "code",
      "source": [
        "result_pdf.to_excel('result_pdfItemsFreq_Exp1.xlsx')"
      ],
      "metadata": {
        "id": "utO5Rearlqfu"
      },
      "execution_count": null,
      "outputs": []
    },
    {
      "cell_type": "code",
      "source": [
        "rules_pdf = rules.select(\"*\").toPandas()\n",
        "rules_pdf.head()"
      ],
      "metadata": {
        "colab": {
          "base_uri": "https://localhost:8080/",
          "height": 206
        },
        "id": "4VSDz7nwlr4J",
        "outputId": "6229b699-2a22-45b2-b8a6-6f8a2a576e61"
      },
      "execution_count": null,
      "outputs": [
        {
          "output_type": "execute_result",
          "data": {
            "text/plain": [
              "  antecedent consequent  confidence       lift\n",
              "0      [128]       [67]    0.337998   8.287536\n",
              "1      [128]       [91]    0.342304  10.666919\n",
              "2      [128]      [104]    0.387513   7.764057\n",
              "3      [128]       [92]    0.315393   9.648273\n",
              "4      [128]      [103]    0.355221   8.102645"
            ],
            "text/html": [
              "\n",
              "  <div id=\"df-56e573e8-ae75-4dd8-a710-bced5af44890\">\n",
              "    <div class=\"colab-df-container\">\n",
              "      <div>\n",
              "<style scoped>\n",
              "    .dataframe tbody tr th:only-of-type {\n",
              "        vertical-align: middle;\n",
              "    }\n",
              "\n",
              "    .dataframe tbody tr th {\n",
              "        vertical-align: top;\n",
              "    }\n",
              "\n",
              "    .dataframe thead th {\n",
              "        text-align: right;\n",
              "    }\n",
              "</style>\n",
              "<table border=\"1\" class=\"dataframe\">\n",
              "  <thead>\n",
              "    <tr style=\"text-align: right;\">\n",
              "      <th></th>\n",
              "      <th>antecedent</th>\n",
              "      <th>consequent</th>\n",
              "      <th>confidence</th>\n",
              "      <th>lift</th>\n",
              "    </tr>\n",
              "  </thead>\n",
              "  <tbody>\n",
              "    <tr>\n",
              "      <th>0</th>\n",
              "      <td>[128]</td>\n",
              "      <td>[67]</td>\n",
              "      <td>0.337998</td>\n",
              "      <td>8.287536</td>\n",
              "    </tr>\n",
              "    <tr>\n",
              "      <th>1</th>\n",
              "      <td>[128]</td>\n",
              "      <td>[91]</td>\n",
              "      <td>0.342304</td>\n",
              "      <td>10.666919</td>\n",
              "    </tr>\n",
              "    <tr>\n",
              "      <th>2</th>\n",
              "      <td>[128]</td>\n",
              "      <td>[104]</td>\n",
              "      <td>0.387513</td>\n",
              "      <td>7.764057</td>\n",
              "    </tr>\n",
              "    <tr>\n",
              "      <th>3</th>\n",
              "      <td>[128]</td>\n",
              "      <td>[92]</td>\n",
              "      <td>0.315393</td>\n",
              "      <td>9.648273</td>\n",
              "    </tr>\n",
              "    <tr>\n",
              "      <th>4</th>\n",
              "      <td>[128]</td>\n",
              "      <td>[103]</td>\n",
              "      <td>0.355221</td>\n",
              "      <td>8.102645</td>\n",
              "    </tr>\n",
              "  </tbody>\n",
              "</table>\n",
              "</div>\n",
              "      <button class=\"colab-df-convert\" onclick=\"convertToInteractive('df-56e573e8-ae75-4dd8-a710-bced5af44890')\"\n",
              "              title=\"Convert this dataframe to an interactive table.\"\n",
              "              style=\"display:none;\">\n",
              "        \n",
              "  <svg xmlns=\"http://www.w3.org/2000/svg\" height=\"24px\"viewBox=\"0 0 24 24\"\n",
              "       width=\"24px\">\n",
              "    <path d=\"M0 0h24v24H0V0z\" fill=\"none\"/>\n",
              "    <path d=\"M18.56 5.44l.94 2.06.94-2.06 2.06-.94-2.06-.94-.94-2.06-.94 2.06-2.06.94zm-11 1L8.5 8.5l.94-2.06 2.06-.94-2.06-.94L8.5 2.5l-.94 2.06-2.06.94zm10 10l.94 2.06.94-2.06 2.06-.94-2.06-.94-.94-2.06-.94 2.06-2.06.94z\"/><path d=\"M17.41 7.96l-1.37-1.37c-.4-.4-.92-.59-1.43-.59-.52 0-1.04.2-1.43.59L10.3 9.45l-7.72 7.72c-.78.78-.78 2.05 0 2.83L4 21.41c.39.39.9.59 1.41.59.51 0 1.02-.2 1.41-.59l7.78-7.78 2.81-2.81c.8-.78.8-2.07 0-2.86zM5.41 20L4 18.59l7.72-7.72 1.47 1.35L5.41 20z\"/>\n",
              "  </svg>\n",
              "      </button>\n",
              "      \n",
              "  <style>\n",
              "    .colab-df-container {\n",
              "      display:flex;\n",
              "      flex-wrap:wrap;\n",
              "      gap: 12px;\n",
              "    }\n",
              "\n",
              "    .colab-df-convert {\n",
              "      background-color: #E8F0FE;\n",
              "      border: none;\n",
              "      border-radius: 50%;\n",
              "      cursor: pointer;\n",
              "      display: none;\n",
              "      fill: #1967D2;\n",
              "      height: 32px;\n",
              "      padding: 0 0 0 0;\n",
              "      width: 32px;\n",
              "    }\n",
              "\n",
              "    .colab-df-convert:hover {\n",
              "      background-color: #E2EBFA;\n",
              "      box-shadow: 0px 1px 2px rgba(60, 64, 67, 0.3), 0px 1px 3px 1px rgba(60, 64, 67, 0.15);\n",
              "      fill: #174EA6;\n",
              "    }\n",
              "\n",
              "    [theme=dark] .colab-df-convert {\n",
              "      background-color: #3B4455;\n",
              "      fill: #D2E3FC;\n",
              "    }\n",
              "\n",
              "    [theme=dark] .colab-df-convert:hover {\n",
              "      background-color: #434B5C;\n",
              "      box-shadow: 0px 1px 3px 1px rgba(0, 0, 0, 0.15);\n",
              "      filter: drop-shadow(0px 1px 2px rgba(0, 0, 0, 0.3));\n",
              "      fill: #FFFFFF;\n",
              "    }\n",
              "  </style>\n",
              "\n",
              "      <script>\n",
              "        const buttonEl =\n",
              "          document.querySelector('#df-56e573e8-ae75-4dd8-a710-bced5af44890 button.colab-df-convert');\n",
              "        buttonEl.style.display =\n",
              "          google.colab.kernel.accessAllowed ? 'block' : 'none';\n",
              "\n",
              "        async function convertToInteractive(key) {\n",
              "          const element = document.querySelector('#df-56e573e8-ae75-4dd8-a710-bced5af44890');\n",
              "          const dataTable =\n",
              "            await google.colab.kernel.invokeFunction('convertToInteractive',\n",
              "                                                     [key], {});\n",
              "          if (!dataTable) return;\n",
              "\n",
              "          const docLinkHtml = 'Like what you see? Visit the ' +\n",
              "            '<a target=\"_blank\" href=https://colab.research.google.com/notebooks/data_table.ipynb>data table notebook</a>'\n",
              "            + ' to learn more about interactive tables.';\n",
              "          element.innerHTML = '';\n",
              "          dataTable['output_type'] = 'display_data';\n",
              "          await google.colab.output.renderOutput(dataTable, element);\n",
              "          const docLink = document.createElement('div');\n",
              "          docLink.innerHTML = docLinkHtml;\n",
              "          element.appendChild(docLink);\n",
              "        }\n",
              "      </script>\n",
              "    </div>\n",
              "  </div>\n",
              "  "
            ]
          },
          "metadata": {},
          "execution_count": 22
        }
      ]
    },
    {
      "cell_type": "code",
      "source": [
        "rules_pdf.to_excel('rules_pdfAnteConseConfLift_Exp1.xlsx')"
      ],
      "metadata": {
        "id": "JG1fWuqgltkP"
      },
      "execution_count": null,
      "outputs": []
    },
    {
      "cell_type": "code",
      "source": [
        "transformed_pdf = transformed.select(\"*\").toPandas()\n",
        "transformed_pdf.head()"
      ],
      "metadata": {
        "colab": {
          "base_uri": "https://localhost:8080/",
          "height": 206
        },
        "id": "krHRCewFlu6-",
        "outputId": "379c9dc8-e24b-458a-d1b5-a1719a808984"
      },
      "execution_count": null,
      "outputs": [
        {
          "output_type": "execute_result",
          "data": {
            "text/plain": [
              "   SalesTransactionID collect_list(SalesItem) prediction\n",
              "0                   0                     [0]         []\n",
              "1                   1               [0, 1, 2]         []\n",
              "2                   2                     [1]         []\n",
              "3                   3                     [0]         []\n",
              "4                   4                     [0]         []"
            ],
            "text/html": [
              "\n",
              "  <div id=\"df-7df31c0d-6c9a-489c-b9de-28113dcd1229\">\n",
              "    <div class=\"colab-df-container\">\n",
              "      <div>\n",
              "<style scoped>\n",
              "    .dataframe tbody tr th:only-of-type {\n",
              "        vertical-align: middle;\n",
              "    }\n",
              "\n",
              "    .dataframe tbody tr th {\n",
              "        vertical-align: top;\n",
              "    }\n",
              "\n",
              "    .dataframe thead th {\n",
              "        text-align: right;\n",
              "    }\n",
              "</style>\n",
              "<table border=\"1\" class=\"dataframe\">\n",
              "  <thead>\n",
              "    <tr style=\"text-align: right;\">\n",
              "      <th></th>\n",
              "      <th>SalesTransactionID</th>\n",
              "      <th>collect_list(SalesItem)</th>\n",
              "      <th>prediction</th>\n",
              "    </tr>\n",
              "  </thead>\n",
              "  <tbody>\n",
              "    <tr>\n",
              "      <th>0</th>\n",
              "      <td>0</td>\n",
              "      <td>[0]</td>\n",
              "      <td>[]</td>\n",
              "    </tr>\n",
              "    <tr>\n",
              "      <th>1</th>\n",
              "      <td>1</td>\n",
              "      <td>[0, 1, 2]</td>\n",
              "      <td>[]</td>\n",
              "    </tr>\n",
              "    <tr>\n",
              "      <th>2</th>\n",
              "      <td>2</td>\n",
              "      <td>[1]</td>\n",
              "      <td>[]</td>\n",
              "    </tr>\n",
              "    <tr>\n",
              "      <th>3</th>\n",
              "      <td>3</td>\n",
              "      <td>[0]</td>\n",
              "      <td>[]</td>\n",
              "    </tr>\n",
              "    <tr>\n",
              "      <th>4</th>\n",
              "      <td>4</td>\n",
              "      <td>[0]</td>\n",
              "      <td>[]</td>\n",
              "    </tr>\n",
              "  </tbody>\n",
              "</table>\n",
              "</div>\n",
              "      <button class=\"colab-df-convert\" onclick=\"convertToInteractive('df-7df31c0d-6c9a-489c-b9de-28113dcd1229')\"\n",
              "              title=\"Convert this dataframe to an interactive table.\"\n",
              "              style=\"display:none;\">\n",
              "        \n",
              "  <svg xmlns=\"http://www.w3.org/2000/svg\" height=\"24px\"viewBox=\"0 0 24 24\"\n",
              "       width=\"24px\">\n",
              "    <path d=\"M0 0h24v24H0V0z\" fill=\"none\"/>\n",
              "    <path d=\"M18.56 5.44l.94 2.06.94-2.06 2.06-.94-2.06-.94-.94-2.06-.94 2.06-2.06.94zm-11 1L8.5 8.5l.94-2.06 2.06-.94-2.06-.94L8.5 2.5l-.94 2.06-2.06.94zm10 10l.94 2.06.94-2.06 2.06-.94-2.06-.94-.94-2.06-.94 2.06-2.06.94z\"/><path d=\"M17.41 7.96l-1.37-1.37c-.4-.4-.92-.59-1.43-.59-.52 0-1.04.2-1.43.59L10.3 9.45l-7.72 7.72c-.78.78-.78 2.05 0 2.83L4 21.41c.39.39.9.59 1.41.59.51 0 1.02-.2 1.41-.59l7.78-7.78 2.81-2.81c.8-.78.8-2.07 0-2.86zM5.41 20L4 18.59l7.72-7.72 1.47 1.35L5.41 20z\"/>\n",
              "  </svg>\n",
              "      </button>\n",
              "      \n",
              "  <style>\n",
              "    .colab-df-container {\n",
              "      display:flex;\n",
              "      flex-wrap:wrap;\n",
              "      gap: 12px;\n",
              "    }\n",
              "\n",
              "    .colab-df-convert {\n",
              "      background-color: #E8F0FE;\n",
              "      border: none;\n",
              "      border-radius: 50%;\n",
              "      cursor: pointer;\n",
              "      display: none;\n",
              "      fill: #1967D2;\n",
              "      height: 32px;\n",
              "      padding: 0 0 0 0;\n",
              "      width: 32px;\n",
              "    }\n",
              "\n",
              "    .colab-df-convert:hover {\n",
              "      background-color: #E2EBFA;\n",
              "      box-shadow: 0px 1px 2px rgba(60, 64, 67, 0.3), 0px 1px 3px 1px rgba(60, 64, 67, 0.15);\n",
              "      fill: #174EA6;\n",
              "    }\n",
              "\n",
              "    [theme=dark] .colab-df-convert {\n",
              "      background-color: #3B4455;\n",
              "      fill: #D2E3FC;\n",
              "    }\n",
              "\n",
              "    [theme=dark] .colab-df-convert:hover {\n",
              "      background-color: #434B5C;\n",
              "      box-shadow: 0px 1px 3px 1px rgba(0, 0, 0, 0.15);\n",
              "      filter: drop-shadow(0px 1px 2px rgba(0, 0, 0, 0.3));\n",
              "      fill: #FFFFFF;\n",
              "    }\n",
              "  </style>\n",
              "\n",
              "      <script>\n",
              "        const buttonEl =\n",
              "          document.querySelector('#df-7df31c0d-6c9a-489c-b9de-28113dcd1229 button.colab-df-convert');\n",
              "        buttonEl.style.display =\n",
              "          google.colab.kernel.accessAllowed ? 'block' : 'none';\n",
              "\n",
              "        async function convertToInteractive(key) {\n",
              "          const element = document.querySelector('#df-7df31c0d-6c9a-489c-b9de-28113dcd1229');\n",
              "          const dataTable =\n",
              "            await google.colab.kernel.invokeFunction('convertToInteractive',\n",
              "                                                     [key], {});\n",
              "          if (!dataTable) return;\n",
              "\n",
              "          const docLinkHtml = 'Like what you see? Visit the ' +\n",
              "            '<a target=\"_blank\" href=https://colab.research.google.com/notebooks/data_table.ipynb>data table notebook</a>'\n",
              "            + ' to learn more about interactive tables.';\n",
              "          element.innerHTML = '';\n",
              "          dataTable['output_type'] = 'display_data';\n",
              "          await google.colab.output.renderOutput(dataTable, element);\n",
              "          const docLink = document.createElement('div');\n",
              "          docLink.innerHTML = docLinkHtml;\n",
              "          element.appendChild(docLink);\n",
              "        }\n",
              "      </script>\n",
              "    </div>\n",
              "  </div>\n",
              "  "
            ]
          },
          "metadata": {},
          "execution_count": 24
        }
      ]
    },
    {
      "cell_type": "code",
      "source": [
        "transformed_pdf.to_excel('transformed_pdfSalesTransactionIDCollectListPred_Exp1.xlsx')"
      ],
      "metadata": {
        "id": "Yz5xiXbVlw0n"
      },
      "execution_count": null,
      "outputs": []
    },
    {
      "cell_type": "markdown",
      "source": [
        "#### Second Experiment\n",
        "minSupport = 0.005 and minConfidence == 0.005"
      ],
      "metadata": {
        "id": "r51MfQZwiGnE"
      }
    },
    {
      "cell_type": "code",
      "source": [
        "#Frequent Pattern Growth – FP Growth is a method of mining frequent itemsets\n",
        "fpGrowth = FPGrowth(itemsCol=\"collect_list(Itemname)\", minSupport=0.005, minConfidence=0.005) \n",
        "model = fpGrowth.fit(basketdata)\n",
        "\n",
        "# Display frequent itemsets.\n",
        "model.freqItemsets.show()\n",
        "items = model.freqItemsets\n",
        "# Display generated association rules.\n",
        "model.associationRules.show()\n",
        "rules = model.associationRules\n",
        "# transform examines the input items against all the association rules and summarize the\n",
        "# consequents as prediction\n",
        "model.transform(basketdata).show()\n",
        "transformed = model.transform(basketdata)"
      ],
      "metadata": {
        "id": "V75VLQZbiJ3_"
      },
      "execution_count": null,
      "outputs": []
    },
    {
      "cell_type": "code",
      "source": [
        "# Convert the Spark DataFrame back to a Pandas DataFrame using Arrow\n",
        "result_pdf = items.select(\"*\").toPandas()\n",
        "result_pdf.head()"
      ],
      "metadata": {
        "id": "ZWNmBGVQiL4q"
      },
      "execution_count": null,
      "outputs": []
    },
    {
      "cell_type": "code",
      "source": [
        "result_pdf.to_excel('result_pdfItemsFreq_Exp2.xlsx')"
      ],
      "metadata": {
        "id": "fApC45psiOOf"
      },
      "execution_count": null,
      "outputs": []
    },
    {
      "cell_type": "code",
      "source": [
        "rules_pdf = rules.select(\"*\").toPandas()\n",
        "rules_pdf.head()"
      ],
      "metadata": {
        "id": "Sm3qf-R0iRGC"
      },
      "execution_count": null,
      "outputs": []
    },
    {
      "cell_type": "code",
      "source": [
        "rules_pdf.to_excel('rules_pdfAnteConseConfLift_Exp1.xlsx')"
      ],
      "metadata": {
        "id": "ioS3XoeaiTMG"
      },
      "execution_count": null,
      "outputs": []
    },
    {
      "cell_type": "code",
      "source": [
        "transformed_pdf = transformed.select(\"*\").toPandas()\n",
        "transformed_pdf.head()"
      ],
      "metadata": {
        "id": "jt4_mgF1iWiH"
      },
      "execution_count": null,
      "outputs": []
    },
    {
      "cell_type": "code",
      "source": [
        "transformed_pdf.to_excel('transformed_pdfSalesTransactionIDCollectListPred_Exp1.xlsx')"
      ],
      "metadata": {
        "id": "t6-oGm_-iYEq"
      },
      "execution_count": null,
      "outputs": []
    },
    {
      "cell_type": "markdown",
      "source": [
        "#### Third Experiment\n",
        "minSupport = 0.01 and minConfidence == 0.01"
      ],
      "metadata": {
        "id": "k8yYDUvtibBl"
      }
    },
    {
      "cell_type": "code",
      "source": [
        "#Frequent Pattern Growth – FP Growth is a method of mining frequent itemsets\n",
        "fpGrowth = FPGrowth(itemsCol=\"collect_list(Itemname)\", minSupport=0.01, minConfidence=0.01) \n",
        "model = fpGrowth.fit(basketdata)\n",
        "\n",
        "# Display frequent itemsets.\n",
        "model.freqItemsets.show()\n",
        "items = model.freqItemsets\n",
        "# Display generated association rules.\n",
        "model.associationRules.show()\n",
        "rules = model.associationRules\n",
        "# transform examines the input items against all the association rules and summarize the\n",
        "# consequents as prediction\n",
        "model.transform(basketdata).show()\n",
        "transformed = model.transform(basketdata)"
      ],
      "metadata": {
        "id": "0XvI22pJiecI"
      },
      "execution_count": null,
      "outputs": []
    },
    {
      "cell_type": "code",
      "source": [
        "# Convert the Spark DataFrame back to a Pandas DataFrame using Arrow\n",
        "result_pdf = items.select(\"*\").toPandas()\n",
        "result_pdf.head()"
      ],
      "metadata": {
        "id": "BaPXTIsKiqVW"
      },
      "execution_count": null,
      "outputs": []
    },
    {
      "cell_type": "code",
      "source": [
        "result_pdf.to_excel('result_pdfItemsFreq_Exp3.xlsx')"
      ],
      "metadata": {
        "id": "FomdPG5KitAY"
      },
      "execution_count": null,
      "outputs": []
    },
    {
      "cell_type": "code",
      "source": [
        "rules_pdf = rules.select(\"*\").toPandas()\n",
        "rules_pdf.head()"
      ],
      "metadata": {
        "id": "JxE4Eqq0iuh4"
      },
      "execution_count": null,
      "outputs": []
    },
    {
      "cell_type": "code",
      "source": [
        "rules_pdf.to_excel('rules_pdfAnteConseConfLift_Exp1.xlsx')"
      ],
      "metadata": {
        "id": "ucQOAmNwiwAM"
      },
      "execution_count": null,
      "outputs": []
    },
    {
      "cell_type": "code",
      "source": [
        "transformed_pdf = transformed.select(\"*\").toPandas()\n",
        "transformed_pdf.head()"
      ],
      "metadata": {
        "id": "4MsZd8Pbixve"
      },
      "execution_count": null,
      "outputs": []
    },
    {
      "cell_type": "code",
      "source": [
        "transformed_pdf.to_excel('transformed_pdfSalesTransactionIDCollectListPred_Exp1.xlsx')"
      ],
      "metadata": {
        "id": "4ZiQnGg2iyvr"
      },
      "execution_count": null,
      "outputs": []
    },
    {
      "cell_type": "markdown",
      "source": [
        "## Conclusion"
      ],
      "metadata": {
        "id": "0t9KnDdxizNZ"
      }
    },
    {
      "cell_type": "markdown",
      "source": [
        "\n",
        "\n",
        "*   Minimum Support: This parameter determines the minimum frequency that an itemset must have in order to be considered frequent. Itemsets that occur less frequently than the minimum support threshold are pruned, as they are unlikely to be interesting or informative. Increasing the minimum support value leads to fewer frequent itemsets being generated, while decreasing it leads to more frequent itemsets.\n",
        "*   Minimum Confidence: This parameter determines the minimum level of confidence that an association rule must have in order to be considered interesting or informative. Association rules that have less confidence than the minimum confidence threshold are considered uninteresting and are pruned. Increasing the minimum confidence value leads to fewer association rules being generated, while decreasing it leads to more association rules.\n",
        "\n",
        "Sure! In general, the minimum support and minimum confidence parameters in association rule mining algorithms such as FP-growth can have a significant impact on the results generated.\n",
        "\n",
        "Minimum Support: This parameter determines the minimum frequency that an itemset must have in order to be considered frequent. Itemsets that occur less frequently than the minimum support threshold are pruned, as they are unlikely to be interesting or informative. Increasing the minimum support value leads to fewer frequent itemsets being generated, while decreasing it leads to more frequent itemsets.\n",
        "\n",
        "Minimum Confidence: This parameter determines the minimum level of confidence that an association rule must have in order to be considered interesting or informative. Association rules that have less confidence than the minimum confidence threshold are considered uninteresting and are pruned. Increasing the minimum confidence value leads to fewer association rules being generated, while decreasing it leads to more association rules.\n",
        "\n",
        "In general, finding the optimal values for these parameters requires a balance between generating enough frequent itemsets or association rules to be useful and avoiding overfitting or generating too many irrelevant results. This can be achieved through iterative experimentation with different parameter values, as well as domain knowledge and intuition.\n",
        "\n"
      ],
      "metadata": {
        "id": "ZcVUDtQ0j14O"
      }
    }
  ]
}